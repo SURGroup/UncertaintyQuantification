{
 "cells": [
  {
   "cell_type": "markdown",
   "metadata": {},
   "source": [
    "### Polynomial Chaos Expansion example: Sinusoidal Function  (1 random input, scalar output)"
   ]
  },
  {
   "cell_type": "markdown",
   "metadata": {},
   "source": [
    "Authors: Katiana Kontolati, Dimitrios Loukrezis \\\n",
    "Date: May 6, 2021"
   ]
  },
  {
   "cell_type": "markdown",
   "metadata": {},
   "source": [
    "In this example, PCE is used to generate a surrogate model of a sinusoidal function with a single random input and a scalar output."
   ]
  },
  {
   "cell_type": "code",
   "execution_count": 1,
   "metadata": {},
   "outputs": [],
   "source": [
    "import numpy as np\n",
    "import matplotlib.pyplot as plt\n",
    "from UQpy.Distributions import Uniform\n",
    "from UQpy.Surrogates.PCE.PCE import PolyChaosExp\n",
    "from UQpy.Surrogates.PCE.PolyBasis import construct_td_basis\n",
    "from UQpy.Surrogates.PCE.CoefficientFit import fit_lstsq, fit_lasso, fit_ridge\n",
    "from UQpy.Surrogates.PCE.MomentEstimation import pce_mean, pce_variance\n"
   ]
  },
  {
   "cell_type": "markdown",
   "metadata": {},
   "source": [
    "Define the sinusoidal function to be approximated."
   ]
  },
  {
   "cell_type": "code",
   "execution_count": 5,
   "metadata": {},
   "outputs": [],
   "source": [
    "def sinusoidal_function(x):                                \n",
    "    return x*np.sin(x)/10.0"
   ]
  },
  {
   "cell_type": "markdown",
   "metadata": {},
   "source": [
    "Create a distribution object, generate samples and evaluate the function at the samples."
   ]
  },
  {
   "cell_type": "code",
   "execution_count": 16,
   "metadata": {},
   "outputs": [],
   "source": [
    "np.random.seed(1)\n",
    "\n",
    "dist = Uniform(loc=0, scale=10)   \n",
    "n_samples = 200         \n",
    "x = dist.rvs(n_samples)  \n",
    "y = sinusoidal_function(x)  "
   ]
  },
  {
   "cell_type": "markdown",
   "metadata": {},
   "source": [
    "Create an object from the PCE class, construct a total-degree polynomial basis given a maximum polynomial degree, and compute the PCE coefficients using least squares regression."
   ]
  },
  {
   "cell_type": "code",
   "execution_count": 17,
   "metadata": {},
   "outputs": [],
   "source": [
    "max_degree = 15\n",
    "pce_lstsq = PolyChaosExp(dist)\n",
    "construct_td_basis(pce_lstsq, max_degree)\n",
    "fit_lstsq(pce_lstsq, x, y)"
   ]
  },
  {
   "cell_type": "markdown",
   "metadata": {},
   "source": [
    "Create an object from the PCE class, construct a total-degree polynomial basis given a maximum polynomial degree, and compute the PCE coefficients using LASSO regression."
   ]
  },
  {
   "cell_type": "code",
   "execution_count": 18,
   "metadata": {},
   "outputs": [],
   "source": [
    "pce_lasso = PolyChaosExp(dist)\n",
    "construct_td_basis(pce_lasso, max_degree)\n",
    "fit_lasso(pce_lasso, x, y)"
   ]
  },
  {
   "cell_type": "markdown",
   "metadata": {},
   "source": [
    "Create an object from the PCE class, construct a total-degree polynomial basis given a maximum polynomial degree, and compute the PCE coefficients using ridge regression."
   ]
  },
  {
   "cell_type": "code",
   "execution_count": 19,
   "metadata": {},
   "outputs": [],
   "source": [
    "pce_ridge = PolyChaosExp(dist)\n",
    "construct_td_basis(pce_ridge, max_degree)\n",
    "fit_ridge(pce_ridge, x, y)"
   ]
  },
  {
   "cell_type": "markdown",
   "metadata": {},
   "source": [
    "PCE surrogate is used to predict the behavior of the function at new samples."
   ]
  },
  {
   "cell_type": "code",
   "execution_count": 20,
   "metadata": {},
   "outputs": [],
   "source": [
    "x_test = dist.rvs(100)\n",
    "x_test.sort(axis=0) \n",
    "\n",
    "y_test_lstsq = pce_lstsq.predict(x_test)\n",
    "y_test_lasso = pce_lasso.predict(x_test)\n",
    "y_test_ridge = pce_ridge.predict(x_test)"
   ]
  },
  {
   "cell_type": "markdown",
   "metadata": {},
   "source": [
    "Plot training data, true function and PCE surrogate"
   ]
  },
  {
   "cell_type": "code",
   "execution_count": 21,
   "metadata": {},
   "outputs": [
    {
     "data": {
      "image/png": "[encoded data removed]",
      "text/plain": [
       "<Figure size 432x288 with 1 Axes>"
      ]
     },
     "metadata": {},
     "output_type": "display_data"
    }
   ],
   "source": [
    "n_samples_ = 1000\n",
    "x_ = np.linspace(min(x_test), max(x_test), n_samples_)\n",
    "f = sinusoidal_function(x_)\n",
    "\n",
    "plt.figure()\n",
    "plt.plot(x_test, y_test_lstsq, 'g', label='PCE predictor - LSTSQ')\n",
    "plt.plot(x_test, y_test_lasso, 'r', label='PCE predictor - LASSO')\n",
    "plt.plot(x_test, y_test_ridge, 'b', label='PCE predictor - Ridge')\n",
    "plt.scatter(x, y, label='training data')\n",
    "plt.plot(x_, f, 'm', label='function')\n",
    "plt.title('PCE surrogate - prediction accuracy')\n",
    "plt.legend(); plt.show()"
   ]
  },
  {
   "cell_type": "markdown",
   "metadata": {},
   "source": [
    "### Error Estimation"
   ]
  },
  {
   "cell_type": "markdown",
   "metadata": {},
   "source": [
    "Construct a validation dataset and get the validation error."
   ]
  },
  {
   "cell_type": "code",
   "execution_count": 22,
   "metadata": {},
   "outputs": [
    {
     "name": "stdout",
     "output_type": "stream",
     "text": [
      "Mean absolute error from least squares regression is:  7.865133215351676e-08\n",
      "Mean absolute error from LASSO regression is:  0.006393070461973456\n",
      "Mean absolute error from ridge regression is:  0.0017239135197681642\n",
      " \n",
      "Mean relative error from least squares regression is:  0.003955151124602756\n",
      "Mean relative error from LASSO regression is:  191.84675662343412\n",
      "Mean relative error from ridge regression is:  0.6837399971838658\n"
     ]
    }
   ],
   "source": [
    "# validation sample\n",
    "n_samples = 100000\n",
    "x_val = dist.rvs(n_samples)\n",
    "y_val = sinusoidal_function(x_val).flatten()\n",
    "\n",
    "# PCE predictions\n",
    "y_pce_lstsq = pce_lstsq.predict(x_val).flatten()\n",
    "y_pce_lasso = pce_lasso.predict(x_val).flatten()\n",
    "y_pce_ridge = pce_ridge.predict(x_val).flatten()\n",
    "\n",
    "# mean absolute errors\n",
    "error_lstsq = np.sum(np.abs(y_val - y_pce_lstsq))/n_samples\n",
    "error_lasso = np.sum(np.abs(y_val - y_pce_lasso))/n_samples\n",
    "error_ridge = np.sum(np.abs(y_val - y_pce_ridge))/n_samples\n",
    "\n",
    "print('Mean absolute error from least squares regression is: ', error_lstsq)\n",
    "print('Mean absolute error from LASSO regression is: ', error_lasso)\n",
    "print('Mean absolute error from ridge regression is: ', error_ridge)\n",
    "print(' ')\n",
    "\n",
    "# mean relative errors\n",
    "error_lstsq = np.sum( np.abs((y_val - y_pce_lstsq)/y_val) )/n_samples\n",
    "error_lasso = np.sum( np.abs((y_val - y_pce_lasso)/y_val) )/n_samples\n",
    "error_ridge = np.sum( np.abs((y_val - y_pce_ridge)/y_val) )/n_samples\n",
    "\n",
    "print('Mean relative error from least squares regression is: ', error_lstsq)\n",
    "print('Mean relative error from LASSO regression is: ', error_lasso)\n",
    "print('Mean relative error from ridge regression is: ', error_ridge)\n"
   ]
  },
  {
   "cell_type": "markdown",
   "metadata": {},
   "source": [
    "### Moment Estimation"
   ]
  },
  {
   "cell_type": "markdown",
   "metadata": {},
   "source": [
    "Returns mean and variance of the PCE surrogate."
   ]
  },
  {
   "cell_type": "code",
   "execution_count": 23,
   "metadata": {},
   "outputs": [
    {
     "name": "stdout",
     "output_type": "stream",
     "text": [
      "Moments from least squares regression : [0.07846695] [0.13677989]\n",
      "Moments from LASSO regression : [0.07733445] [0.13237105]\n",
      "Moments from Ridge regression : [0.0784795] [0.13504454]\n",
      "Moments from Monte Carlo integration:  0.07881393454117 0.13692766982783508\n"
     ]
    }
   ],
   "source": [
    "n_mc = 1000000\n",
    "x_mc = dist.rvs(n_mc)  \n",
    "y_mc = sinusoidal_function(x_mc)  \n",
    "mean_mc = np.mean(y_mc)\n",
    "var_mc = np.var(y_mc)\n",
    "\n",
    "print('Moments from least squares regression :', pce_mean(pce_lstsq), pce_variance(pce_lstsq))\n",
    "print('Moments from LASSO regression :', pce_mean(pce_lasso), pce_variance(pce_lasso))\n",
    "print('Moments from Ridge regression :', pce_mean(pce_ridge), pce_variance(pce_ridge))\n",
    "print('Moments from Monte Carlo integration: ', mean_mc, var_mc)"
   ]
  },
  {
   "cell_type": "code",
   "execution_count": null,
   "metadata": {},
   "outputs": [],
   "source": []
  }
 ],
 "metadata": {
  "kernelspec": {
   "display_name": "Python 3",
   "language": "python",
   "name": "python3"
  },
  "language_info": {
   "codemirror_mode": {
    "name": "ipython",
    "version": 3
   },
   "file_extension": ".py",
   "mimetype": "text/x-python",
   "name": "python",
   "nbconvert_exporter": "python",
   "pygments_lexer": "ipython3",
   "version": "3.6.9"
  }
 },
 "nbformat": 4,
 "nbformat_minor": 4
}
