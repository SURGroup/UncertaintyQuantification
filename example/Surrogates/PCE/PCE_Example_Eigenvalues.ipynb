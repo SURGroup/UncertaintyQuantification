{
 "cells": [
  {
   "cell_type": "markdown",
   "metadata": {},
   "source": [
    "### Polynomial Chaos Expansion example: 2D Helmholtz eigenvalues (2 random inputs, vector-valued output)"
   ]
  },
  {
   "cell_type": "markdown",
   "metadata": {},
   "source": [
    "Authors: Dimitris Loukrezis, Katiana Kontolati \\\n",
    "Date: May 7, 2021"
   ]
  },
  {
   "cell_type": "markdown",
   "metadata": {},
   "source": [
    "In this example, PCE is used to generate a surrogate model for a given set of 2D data for a numerical model with multi-dimensional outputs."
   ]
  },
  {
   "cell_type": "markdown",
   "metadata": {},
   "source": [
    "Import necessary libraries."
   ]
  },
  {
   "cell_type": "code",
   "execution_count": 14,
   "metadata": {},
   "outputs": [],
   "source": [
    "import numpy as np\n",
    "import matplotlib.pyplot as plt\n",
    "import math\n",
    "from UQpy.Distributions import Normal, JointInd\n",
    "from UQpy.Surrogates import *"
   ]
  },
  {
   "cell_type": "markdown",
   "metadata": {},
   "source": [
    "The analytical function below describes the eigenvalues of the 2D Helmholtz equation on a square."
   ]
  },
  {
   "cell_type": "code",
   "execution_count": 16,
   "metadata": {},
   "outputs": [],
   "source": [
    "def analytical_eigenvalues_2d(Ne, lx, ly):\n",
    "    \"\"\"\n",
    "    Computes the first Ne eigenvalues of a rectangular waveguide with \n",
    "    dimensions lx, ly\n",
    "\n",
    "    Parameters\n",
    "    ----------\n",
    "    Ne : integer\n",
    "         number of eigenvalues.\n",
    "    lx : float\n",
    "         length in x direction.\n",
    "    ly : float\n",
    "         length in y direction.\n",
    "\n",
    "    Returns\n",
    "    -------\n",
    "    ev : numpy 1d array\n",
    "         the Ne eigenvalues\n",
    "    \"\"\"\n",
    "    ev = [(m*np.pi/lx)**2 + (n*np.pi/ly)**2 for m in range(1, Ne+1) \n",
    "                                            for n in range(1, Ne+1)]                                                 \n",
    "    ev = np.array(ev)\n",
    "    \n",
    "    return ev[:Ne]\n"
   ]
  },
  {
   "cell_type": "markdown",
   "metadata": {},
   "source": [
    "Create a distribution object."
   ]
  },
  {
   "cell_type": "code",
   "execution_count": 17,
   "metadata": {},
   "outputs": [],
   "source": [
    "pdf_lx = Normal(loc=2, scale=0.02)   \n",
    "pdf_ly = Normal(loc=1, scale=0.01)\n",
    "margs = [pdf_lx, pdf_ly]\n",
    "joint = JointInd(marginals=margs)"
   ]
  },
  {
   "cell_type": "markdown",
   "metadata": {},
   "source": [
    "Define the number of input dimensions and choose the number of output dimensions (number of eigenvalues)."
   ]
  },
  {
   "cell_type": "code",
   "execution_count": 18,
   "metadata": {},
   "outputs": [],
   "source": [
    "dim_in = 2\n",
    "dim_out = 10 "
   ]
  },
  {
   "cell_type": "markdown",
   "metadata": {},
   "source": [
    "Construct PCE models by varying the maximum degree of polynomials (and therefore the number of polynomial basis) and compute the validation error for all resulting models."
   ]
  },
  {
   "cell_type": "code",
   "execution_count": 19,
   "metadata": {
    "scrolled": true
   },
   "outputs": [
    {
     "name": "stdout",
     "output_type": "stream",
     "text": [
      "Total degree:  1\n",
      "Size of basis: 3\n",
      "Sampling coefficient:  5\n",
      "Training data:  15\n",
      "Relative absolute errors:  [0.25787331 0.28364754 0.29201537 0.29532324 0.29691008 0.29778109\n",
      " 0.29831043 0.2986553  0.29889252 0.29906269]\n",
      "\n",
      "Total degree:  2\n",
      "Size of basis: 6\n",
      "Sampling coefficient:  5\n",
      "Training data:  30\n",
      "Relative absolute errors:  [0.00475743 0.0051856  0.00531297 0.00536752 0.00539496 0.00541011\n",
      " 0.00541937 0.00542546 0.00542968 0.00543271]\n",
      "\n",
      "Total degree:  3\n",
      "Size of basis: 10\n",
      "Sampling coefficient:  5\n",
      "Training data:  50\n",
      "Relative absolute errors:  [0.00012562 0.00014033 0.00014521 0.00014706 0.00014794 0.00014842\n",
      " 0.00014872 0.00014891 0.00014904 0.00014913]\n",
      "\n",
      "Total degree:  4\n",
      "Size of basis: 15\n",
      "Sampling coefficient:  5\n",
      "Training data:  75\n",
      "Relative absolute errors:  [1.88728323e-06 1.90860544e-06 1.92961221e-06 1.94463742e-06\n",
      " 1.95400953e-06 1.95956403e-06 1.96292944e-06 1.96512046e-06\n",
      " 1.96687111e-06 1.96840792e-06]\n",
      "\n",
      "Total degree:  5\n",
      "Size of basis: 21\n",
      "Sampling coefficient:  5\n",
      "Training data:  105\n",
      "Relative absolute errors:  [1.18500073e-07 1.34430500e-07 1.38327319e-07 1.39753717e-07\n",
      " 1.40432845e-07 1.40809766e-07 1.41037879e-07 1.41186709e-07\n",
      " 1.41288573e-07 1.41361760e-07]\n",
      "\n"
     ]
    }
   ],
   "source": [
    "errors = []\n",
    "# construct PCE surrogate models\n",
    "for max_degree in range(1,6):\n",
    "    print('Total degree: ', max_degree)\n",
    "    pce_metamodel = PolyChaosExp(joint)\n",
    "    construct_td_basis(pce_metamodel, max_degree)\n",
    "    print('Size of basis:', pce_metamodel.n_polys)\n",
    "    # training data\n",
    "    sampling_coeff = 5\n",
    "    print('Sampling coefficient: ', sampling_coeff)\n",
    "    np.random.seed(42)\n",
    "    n_samples = math.ceil(sampling_coeff*pce_metamodel.n_polys)\n",
    "    print('Training data: ', n_samples)\n",
    "    xx = joint.rvs(n_samples)\n",
    "    yy = np.array([analytical_eigenvalues_2d(dim_out, x[0], x[1]) for x in xx])\n",
    "    \n",
    "    # fit model\n",
    "    fit_lstsq(pce_metamodel, xx, yy)\n",
    "    \n",
    "    # coefficients\n",
    "    #print('PCE coefficients: ', pce.C)\n",
    "    \n",
    "    # validation errors\n",
    "    np.random.seed(999)\n",
    "    n_samples = 1000\n",
    "    x_val = joint.rvs(n_samples)\n",
    "    y_val = np.array([analytical_eigenvalues_2d(dim_out, x[0], x[1]) for x in x_val])\n",
    "    y_val_pce = pce_metamodel.predict(x_val)\n",
    "    errors.append(np.linalg.norm((y_val - y_val_pce)/y_val, ord=1, axis=0))\n",
    "    print('Relative absolute errors: ', errors[-1])\n",
    "    print('')"
   ]
  },
  {
   "cell_type": "markdown",
   "metadata": {},
   "source": [
    "Plot errors."
   ]
  },
  {
   "cell_type": "code",
   "execution_count": 20,
   "metadata": {},
   "outputs": [
    {
     "data": {
      "image/png": "[encoded data removed]",
      "text/plain": [
       "<Figure size 432x288 with 1 Axes>"
      ]
     },
     "metadata": {},
     "output_type": "display_data"
    }
   ],
   "source": [
    "errors = np.array(errors)\n",
    "plt.figure(1)\n",
    "for i in range(np.shape(errors)[0]):\n",
    "    plt.semilogy(np.linspace(1, dim_out, dim_out), errors[i], '--o', label='pol. degree: {}'.format(i+1))\n",
    "plt.legend()\n",
    "plt.show()"
   ]
  },
  {
   "cell_type": "markdown",
   "metadata": {},
   "source": [
    "Moment estimation (directly estimated from the last PCE metamodel)."
   ]
  },
  {
   "cell_type": "code",
   "execution_count": 21,
   "metadata": {},
   "outputs": [
    {
     "name": "stdout",
     "output_type": "stream",
     "text": [
      "Mean PCE estimate: [ 12.34070845  41.95840874  91.32124256 160.4292099  249.28231077\n",
      " 357.88054516 486.22391308 634.31241452 802.14604949 989.72481799]\n",
      "\n",
      "Variance PCE estimate: [4.14672709e-02 6.26887565e-01 3.16370884e+00 9.99361227e+00\n",
      " 2.43949515e+01 5.05827526e+01 9.37087143e+01 1.59861207e+02\n",
      " 2.56065276e+02 3.90282635e+02]\n"
     ]
    }
   ],
   "source": [
    "print('Mean PCE estimate:', pce_mean(pce_metamodel))\n",
    "print('')\n",
    "print('Variance PCE estimate:', pce_variance(pce_metamodel))"
   ]
  },
  {
   "cell_type": "code",
   "execution_count": null,
   "metadata": {},
   "outputs": [],
   "source": []
  }
 ],
 "metadata": {
  "kernelspec": {
   "display_name": "Python 3",
   "language": "python",
   "name": "python3"
  },
  "language_info": {
   "codemirror_mode": {
    "name": "ipython",
    "version": 3
   },
   "file_extension": ".py",
   "mimetype": "text/x-python",
   "name": "python",
   "nbconvert_exporter": "python",
   "pygments_lexer": "ipython3",
   "version": "3.6.9"
  }
 },
 "nbformat": 4,
 "nbformat_minor": 4
}
