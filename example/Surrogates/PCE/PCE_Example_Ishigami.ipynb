{
 "cells": [
  {
   "cell_type": "markdown",
   "metadata": {},
   "source": [
    "### Polynomial Chaos Expansion example: Ishigami function (3 random inputs, scalar output)\n"
   ]
  },
  {
   "cell_type": "markdown",
   "metadata": {},
   "source": [
    "Authors: Dimitrios Loukrezis \\ \n",
    "Date: May 6 2021"
   ]
  },
  {
   "cell_type": "markdown",
   "metadata": {},
   "source": [
    "In this example, we approximate the well-known Ishigami function with a total-degree Polynomial Chaos Expansion."
   ]
  },
  {
   "cell_type": "markdown",
   "metadata": {},
   "source": [
    "We start with the necessary imports."
   ]
  },
  {
   "cell_type": "code",
   "execution_count": 1,
   "metadata": {},
   "outputs": [],
   "source": [
    "import numpy as np\n",
    "import math\n",
    "import numpy as np\n",
    "from UQpy.Distributions import Uniform, JointInd\n",
    "from UQpy.Surrogates.PCE.PCE import PolyChaosExp\n",
    "from UQpy.Surrogates.PCE.PolyBasis import construct_td_basis\n",
    "from UQpy.Surrogates.PCE.CoefficientFit import fit_lstsq\n",
    "from UQpy.Surrogates.PCE.MomentEstimation import pce_mean, pce_variance\n",
    "from UQpy.Surrogates.PCE.SobolEstimation import pce_sobol_first\n",
    "from UQpy.Surrogates.PCE.SobolEstimation import pce_sobol_total "
   ]
  },
  {
   "cell_type": "markdown",
   "metadata": {},
   "source": [
    "We then define the Ishigami function, which reads:\n",
    "$$f(x_1, x_2, x_3) = \\sin(x_1) + a \\sin^2(x_2) + b x_3^4 \\sin(x_1).$$"
   ]
  },
  {
   "cell_type": "code",
   "execution_count": 2,
   "metadata": {},
   "outputs": [],
   "source": [
    "# function to be approximated\n",
    "def ishigami(xx):\n",
    "    \"\"\"Ishigami function\"\"\"\n",
    "    a = 7\n",
    "    b = 0.1\n",
    "    term1 = np.sin(xx[0])\n",
    "    term2 = a * np.sin(xx[1])**2\n",
    "    term3 = b * xx[2]**4 * np.sin(xx[0])\n",
    "    return term1 + term2 + term3"
   ]
  },
  {
   "cell_type": "markdown",
   "metadata": {},
   "source": [
    "The Ishigami function has three random inputs, which are uniformly distributed in $[-\\pi, \\pi]$. Moreover, the input random variables are mutually independent, which simplifies the construction of the joint distribution. Let's define the corresponding distributions. "
   ]
  },
  {
   "cell_type": "code",
   "execution_count": 5,
   "metadata": {},
   "outputs": [],
   "source": [
    "# input distributions\n",
    "dist1 = Uniform(loc=-np.pi, scale=2*np.pi)    \n",
    "dist2 = Uniform(loc=-np.pi, scale=2*np.pi)\n",
    "dist3 = Uniform(loc=-np.pi, scale=2*np.pi)    \n",
    "marg = [dist1, dist2, dist3]\n",
    "joint = JointInd(marginals=marg)"
   ]
  },
  {
   "cell_type": "markdown",
   "metadata": {},
   "source": [
    "We now define our PCE. Only thing we need is the joint distribution."
   ]
  },
  {
   "cell_type": "code",
   "execution_count": 6,
   "metadata": {},
   "outputs": [],
   "source": [
    "# define PCE metamodel\n",
    "pce_metamodel = PolyChaosExp(joint)"
   ]
  },
  {
   "cell_type": "markdown",
   "metadata": {},
   "source": [
    "We must now select a polynomial basis. Here we opt for a total-degree (TD) basis, such that the univariate polynomials have a maximum degree equal to $P$ and all multivariate polynomial have a total-degree (sum of degrees of corresponding univariate polynomials) at most equal to $P$. The size of the basis is then given by \n",
    "$$\\frac{(N+P)!}{N! P!},$$\n",
    "where $N$ is the number of random inputs (here, $N+3$)."
   ]
  },
  {
   "cell_type": "code",
   "execution_count": 7,
   "metadata": {},
   "outputs": [
    {
     "name": "stdout",
     "output_type": "stream",
     "text": [
      "Size of PCE basis: 84\n"
     ]
    }
   ],
   "source": [
    "# maximum polynomial degree\n",
    "P = 6  \n",
    "\n",
    "# construct total-degree polynomial basis\n",
    "construct_td_basis(pce_metamodel, P)\n",
    "\n",
    "# check the size of the basis\n",
    "print('Size of PCE basis:', pce_metamodel.n_polys)"
   ]
  },
  {
   "cell_type": "markdown",
   "metadata": {},
   "source": [
    "We must now compute the PCE coefficients. For that we first need a training sample of input random variable realizations and the corresponding model outputs. These two data sets form what is also known as an ''experimental design''. It is generally advisable that the experimental design has $2-10$ times more data points than the number of PCE polynomials."
   ]
  },
  {
   "cell_type": "code",
   "execution_count": 8,
   "metadata": {},
   "outputs": [
    {
     "name": "stdout",
     "output_type": "stream",
     "text": [
      "Size of experimental design: 420\n"
     ]
    }
   ],
   "source": [
    "# create training data\n",
    "sample_size = int(pce_metamodel.n_polys*5)\n",
    "print('Size of experimental design:', sample_size)\n",
    "\n",
    "# realizations of random inputs\n",
    "xx_train = joint.rvs(sample_size)\n",
    "# corresponding model outputs\n",
    "yy_train = np.array([ishigami(x) for x in xx_train])"
   ]
  },
  {
   "cell_type": "markdown",
   "metadata": {},
   "source": [
    "We now fit the PCE coefficients by solving a regression problem. There are multiple ways to do this, e.g. least squares regression, ridge regression, LASSO regression, etc. Here we opt for the _np.linalg.lstsq_ method, which is based on the _dgelsd_ solver of LAPACK."
   ]
  },
  {
   "cell_type": "code",
   "execution_count": 9,
   "metadata": {},
   "outputs": [],
   "source": [
    "# fit model\n",
    "fit_lstsq(pce_metamodel, xx_train, yy_train)"
   ]
  },
  {
   "cell_type": "markdown",
   "metadata": {},
   "source": [
    "By simply post-processing the PCE's terms, we are able to get estimates regarding the mean and standard deviation of the model output."
   ]
  },
  {
   "cell_type": "code",
   "execution_count": 10,
   "metadata": {},
   "outputs": [
    {
     "name": "stdout",
     "output_type": "stream",
     "text": [
      "PCE mean estimate: [3.51305932]\n",
      "PCE variance estimate: [13.55862655]\n"
     ]
    }
   ],
   "source": [
    "mean_est = pce_mean(pce_metamodel)\n",
    "var_est = pce_variance(pce_metamodel)\n",
    "print('PCE mean estimate:', mean_est)\n",
    "print('PCE variance estimate:', var_est)"
   ]
  },
  {
   "cell_type": "markdown",
   "metadata": {},
   "source": [
    "Similarly to the mean and variance estimates, we can very simply estimate the Sobol sensitivity indices, which quantify the importance of the input random variables in terms of impact on the model output."
   ]
  },
  {
   "cell_type": "code",
   "execution_count": 12,
   "metadata": {},
   "outputs": [
    {
     "name": "stdout",
     "output_type": "stream",
     "text": [
      "First-order Sobol indices:\n",
      "[[0.31132363]\n",
      " [0.45474011]\n",
      " [0.00314073]]\n",
      "Total-order Sobol indices:\n",
      "[[0.53934198]\n",
      " [0.46296494]\n",
      " [0.23250565]]\n"
     ]
    }
   ],
   "source": [
    "sobol_first = pce_sobol_first(pce_metamodel)\n",
    "sobol_total = pce_sobol_total(pce_metamodel)\n",
    "print('First-order Sobol indices:')\n",
    "print(sobol_first)\n",
    "print('Total-order Sobol indices:')\n",
    "print(sobol_total)"
   ]
  },
  {
   "cell_type": "markdown",
   "metadata": {},
   "source": [
    "The PCE should become increasingly more accurate as the maximum polynomial degree $P$ increases. We will test that by computing the mean absolute error (MAE) between the PCE's predictions and the true model outputs, given a validation sample of $10^5$ data points."
   ]
  },
  {
   "cell_type": "code",
   "execution_count": 19,
   "metadata": {},
   "outputs": [
    {
     "name": "stdout",
     "output_type": "stream",
     "text": [
      "Polynomial degree: 0\n",
      "Mean absolute error: 3.5092014513593974\n",
      " \n",
      "Polynomial degree: 1\n",
      "Mean absolute error: 2.9190940130421446\n",
      " \n",
      "Polynomial degree: 2\n",
      "Mean absolute error: 2.881426057510191\n",
      " \n",
      "Polynomial degree: 3\n",
      "Mean absolute error: 2.490517639729513\n",
      " \n",
      "Polynomial degree: 4\n",
      "Mean absolute error: 1.6837629839128991\n",
      " \n",
      "Polynomial degree: 5\n",
      "Mean absolute error: 1.428804792603987\n",
      " \n",
      "Polynomial degree: 6\n",
      "Mean absolute error: 0.4722568934087979\n",
      " \n",
      "Polynomial degree: 7\n",
      "Mean absolute error: 0.32758453561421563\n",
      " \n",
      "Polynomial degree: 8\n",
      "Mean absolute error: 0.06852103811265507\n",
      " \n",
      "Polynomial degree: 9\n",
      "Mean absolute error: 0.04424218398187155\n",
      " \n",
      "Polynomial degree: 10\n",
      "Mean absolute error: 0.004973204109526668\n",
      " \n",
      "Polynomial degree: 11\n",
      "Mean absolute error: 0.0038931663654601977\n",
      " \n",
      "Polynomial degree: 12\n",
      "Mean absolute error: 0.00025446069874240907\n",
      " \n",
      "Polynomial degree: 13\n",
      "Mean absolute error: 0.00025430428526692446\n",
      " \n",
      "Polynomial degree: 14\n",
      "Mean absolute error: 1.1189147899392617e-05\n",
      " \n",
      "Polynomial degree: 15\n",
      "Mean absolute error: 1.0716808550130907e-05\n",
      " \n"
     ]
    }
   ],
   "source": [
    "# validation data sets\n",
    "np.random.seed(999) # fix random seed for reproducibility\n",
    "n_samples_val = 100000\n",
    "xx_val = joint.rvs(n_samples_val)\n",
    "yy_val = np.array([ishigami(x) for x in xx_val])\n",
    "\n",
    "mae = [] # to hold MAE for increasing polynomial degree\n",
    "for degree in range(16):\n",
    "    # define PCE\n",
    "    pce_metamodel = PolyChaosExp(joint)\n",
    "    \n",
    "    # build PCE basis\n",
    "    construct_td_basis(pce_metamodel, degree)\n",
    "    \n",
    "    # create training data\n",
    "    np.random.seed(1) # fix random seed for reproducibility\n",
    "    sample_size = int(pce_metamodel.n_polys*5)\n",
    "    xx_train = joint.rvs(sample_size)\n",
    "    yy_train = np.array([ishigami(x) for x in xx_train])\n",
    "    \n",
    "    # fit PCE coefficients\n",
    "    fit_lstsq(pce_metamodel, xx_train, yy_train)\n",
    "    \n",
    "    # compute mean absolute validation error\n",
    "    yy_val_pce = pce_metamodel.predict(xx_val).flatten()\n",
    "    errors = np.abs(yy_val.flatten() - yy_val_pce)\n",
    "    mae.append(np.linalg.norm(errors, 1)/n_samples_val)\n",
    "    \n",
    "    print('Polynomial degree:', degree)\n",
    "    print('Mean absolute error:', mae[-1])\n",
    "    print(' ')\n"
   ]
  },
  {
   "cell_type": "code",
   "execution_count": null,
   "metadata": {},
   "outputs": [],
   "source": []
  }
 ],
 "metadata": {
  "kernelspec": {
   "display_name": "Python 3",
   "language": "python",
   "name": "python3"
  },
  "language_info": {
   "codemirror_mode": {
    "name": "ipython",
    "version": 3
   },
   "file_extension": ".py",
   "mimetype": "text/x-python",
   "name": "python",
   "nbconvert_exporter": "python",
   "pygments_lexer": "ipython3",
   "version": "3.6.9"
  }
 },
 "nbformat": 4,
 "nbformat_minor": 2
}
